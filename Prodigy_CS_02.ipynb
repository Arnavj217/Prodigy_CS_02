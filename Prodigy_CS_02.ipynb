{
 "cells": [
  {
   "cell_type": "code",
   "execution_count": 3,
   "id": "044e67d8-4b0b-4990-8562-10000c09fe98",
   "metadata": {},
   "outputs": [
    {
     "name": "stdout",
     "output_type": "stream",
     "text": [
      "Image Encryption Tool using Pixel Manipulation\n"
     ]
    },
    {
     "name": "stdin",
     "output_type": "stream",
     "text": [
      "\n",
      "Type 'encrypt' to encrypt or 'decrypt' to decrypt:  encrypt\n",
      "Enter path to the image file:  rcb.jpg\n",
      "Enter path to save the output image:  champ.jpg\n",
      "Enter numeric key for encryption/decryption (e.g. 10):  9\n"
     ]
    },
    {
     "name": "stdout",
     "output_type": "stream",
     "text": [
      "Image encrypted and saved to: champ.jpg\n"
     ]
    },
    {
     "name": "stdin",
     "output_type": "stream",
     "text": [
      "\n",
      "Would you like to try again? (yes/no):  no\n"
     ]
    },
    {
     "name": "stdout",
     "output_type": "stream",
     "text": [
      "Goodbye!\n"
     ]
    }
   ],
   "source": [
    "from PIL import Image\n",
    "\n",
    "def encrypt_image(input_path, output_path, key):\n",
    "    img = Image.open(input_path)\n",
    "    img = img.convert(\"RGB\")\n",
    "    pixels = img.load()\n",
    "\n",
    "    for i in range(img.width):\n",
    "        for j in range(img.height):\n",
    "            r, g, b = pixels[i, j]\n",
    "            # Encrypt by adding a key (modulo 256 to keep values in range)\n",
    "            pixels[i, j] = ((r + key) % 256, (g + key) % 256, (b + key) % 256)\n",
    "\n",
    "    img.save(output_path)\n",
    "    print(f\"Image encrypted and saved to: {output_path}\")\n",
    "\n",
    "def decrypt_image(input_path, output_path, key):\n",
    "    img = Image.open(input_path)\n",
    "    img = img.convert(\"RGB\")\n",
    "    pixels = img.load()\n",
    "\n",
    "    for i in range(img.width):\n",
    "        for j in range(img.height):\n",
    "            r, g, b = pixels[i, j]\n",
    "            # Decrypt by subtracting the key\n",
    "            pixels[i, j] = ((r - key) % 256, (g - key) % 256, (b - key) % 256)\n",
    "\n",
    "    img.save(output_path)\n",
    "    print(f\"Image decrypted and saved to: {output_path}\")\n",
    "\n",
    "def main():\n",
    "    print(\"Image Encryption Tool using Pixel Manipulation\")\n",
    "    \n",
    "    while True:\n",
    "        choice = input(\"\\nType 'encrypt' to encrypt or 'decrypt' to decrypt: \").strip().lower()\n",
    "\n",
    "        if choice not in ['encrypt', 'decrypt']:\n",
    "            print(\"Invalid choice. Please type 'encrypt' or 'decrypt'.\")\n",
    "            continue\n",
    "\n",
    "        input_path = input(\"Enter path to the image file: \")\n",
    "        output_path = input(\"Enter path to save the output image: \")\n",
    "\n",
    "        try:\n",
    "            key = int(input(\"Enter numeric key for encryption/decryption (e.g. 10): \"))\n",
    "        except ValueError:\n",
    "            print(\"Key must be an integer.\")\n",
    "            continue\n",
    "\n",
    "        try:\n",
    "            if choice == 'encrypt':\n",
    "                encrypt_image(input_path, output_path, key)\n",
    "            else:\n",
    "                decrypt_image(input_path, output_path, key)\n",
    "        except FileNotFoundError:\n",
    "            print(\"Error: Image file not found. Please check the path.\")\n",
    "            continue\n",
    "\n",
    "        again = input(\"\\nWould you like to try again? (yes/no): \").strip().lower()\n",
    "        if again != 'yes':\n",
    "            print(\"Goodbye!\")\n",
    "            break\n",
    "\n",
    "if __name__ == \"__main__\":\n",
    "    main()"
   ]
  },
  {
   "cell_type": "code",
   "execution_count": null,
   "id": "9cf6046e-6aef-4f9c-92c8-a6f7a87ad264",
   "metadata": {},
   "outputs": [],
   "source": []
  }
 ],
 "metadata": {
  "kernelspec": {
   "display_name": "Python 3 (ipykernel)",
   "language": "python",
   "name": "python3"
  },
  "language_info": {
   "codemirror_mode": {
    "name": "ipython",
    "version": 3
   },
   "file_extension": ".py",
   "mimetype": "text/x-python",
   "name": "python",
   "nbconvert_exporter": "python",
   "pygments_lexer": "ipython3",
   "version": "3.12.7"
  }
 },
 "nbformat": 4,
 "nbformat_minor": 5
}
